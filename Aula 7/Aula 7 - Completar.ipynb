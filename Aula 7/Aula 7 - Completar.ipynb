{
 "cells": [
  {
   "cell_type": "markdown",
   "id": "b802cb41",
   "metadata": {},
   "source": [
    "# Particle Swarm Optimization (PSO)"
   ]
  },
  {
   "cell_type": "markdown",
   "id": "1fc06bac",
   "metadata": {},
   "source": [
    "Algoritmo evolucionário e de otimização, qua simula o comportamento de \"movimentação em bando\" de alguns animais, como os pássaros, para resolver problemas computacionais."
   ]
  },
  {
   "cell_type": "markdown",
   "id": "cd56c4fa",
   "metadata": {},
   "source": [
    "## Nearest Neighbor Velocity Matching"
   ]
  },
  {
   "cell_type": "markdown",
   "id": "1345ed23",
   "metadata": {},
   "source": [
    "Algoritmo que utiliza dos dados do vizinho mais próximo para atualizar a velocidade de uma dada partícula em observação."
   ]
  },
  {
   "cell_type": "markdown",
   "id": "913eeb13",
   "metadata": {},
   "source": [
    "### Função para o cálculo da distância Euclidiana"
   ]
  },
  {
   "cell_type": "code",
   "execution_count": null,
   "id": "d13f6c42",
   "metadata": {},
   "outputs": [],
   "source": [
    "import numpy as np\n",
    "class Utils:\n",
    "    \n",
    "    def euclidean_distance(p1, p2):\n",
    "        '''\n",
    "        Calcula a distância euclidiana\n",
    "        '''\n"
   ]
  },
  {
   "cell_type": "markdown",
   "id": "3b591dd7",
   "metadata": {},
   "source": [
    "### Classe de Partículas"
   ]
  },
  {
   "cell_type": "code",
   "execution_count": null,
   "id": "5136cb27",
   "metadata": {},
   "outputs": [],
   "source": [
    "class Particle:\n",
    "    def __init__(self, num_dimencoes, bounds):\n",
    "        '''\n",
    "        Construtor\n",
    "        '''\n",
    "\n",
    "        \n",
    "        # Para cada dimensão definir valores aleatórios entre os limites\n",
    "\n",
    "            \n",
    "            \n",
    "    def find_closest(self, swarm):\n",
    "        '''\n",
    "        Para cada partícula no enxame calcular a partícula mais próxima\n",
    "        '''\n",
    "\n",
    "            \n",
    "\n",
    "    def adjust_velocity(self):\n",
    "        '''\n",
    "        Ajustar a nova velocidade baseado na velocidade do vizinho\n",
    "        '''\n",
    "\n",
    "        \n",
    "        \n",
    "    def update_velocity(self):\n",
    "        '''\n",
    "        Atualizar a nova velocidade\n",
    "        '''\n",
    "\n",
    "        \n",
    "    def apply_craziness(self):\n",
    "        '''\n",
    "        Aplicar a operação 'craziness' no indivíduo\n",
    "        '''\n",
    "\n",
    "        \n",
    "    def update_position(self):\n",
    "        '''\n",
    "        Atualizando a posição\n",
    "        '''\n",
    "\n",
    "       \n",
    "                "
   ]
  },
  {
   "cell_type": "markdown",
   "id": "e011ae48",
   "metadata": {},
   "source": [
    "### Classe do Enxame\n"
   ]
  },
  {
   "cell_type": "code",
   "execution_count": null,
   "id": "f40aea45",
   "metadata": {},
   "outputs": [],
   "source": [
    "class Swarm:\n",
    "\n",
    "    def __init__(self, particles):\n",
    "        '''\n",
    "        Construtor\n",
    "        '''\n",
    "\n",
    "\n",
    "    def swarm_closest(self):\n",
    "        '''\n",
    "        Percorre todas as partículas e chama as funções para encontrar a partícula mais próxima e ajustar a nova velocidade\n",
    "        '''\n",
    "\n",
    "       \n",
    "    def swarm_update_velocities(self):\n",
    "        '''\n",
    "        Percorre todas as partículas e chama a função para atualizar a velocidade\n",
    "        '''\n",
    "\n",
    "        \n",
    "    def swarm_craziness(self, craziness_threshold):\n",
    "        '''\n",
    "        Percorre todas as partículas e chama a função para aplicar \"craziness\"\n",
    "        '''\n",
    "\n",
    "       \n",
    "    def swarm_update_positions(self):\n",
    "        '''\n",
    "        Percorre todas as partículas e chama a função para atualizar a posição\n",
    "        '''\n",
    "\n",
    "       "
   ]
  },
  {
   "cell_type": "markdown",
   "id": "59c2f7c3",
   "metadata": {},
   "source": [
    "### Função para visualizarmos o resultado"
   ]
  },
  {
   "cell_type": "code",
   "execution_count": null,
   "id": "9ad844c4",
   "metadata": {},
   "outputs": [],
   "source": [
    "from matplotlib import pyplot as plt\n",
    "from PIL import Image\n",
    "import glob\n",
    "import os\n",
    "import shutil\n",
    "\n",
    "class PlotUtils:\n",
    "\n",
    "    directory = \"pso_plots\"\n",
    "    filename = 'pso.gif'\n",
    "\n",
    "    @staticmethod\n",
    "    def start_plot():\n",
    "        if os.path.exists(PlotUtils.directory):\n",
    "            shutil.rmtree(PlotUtils.directory)\n",
    "        if not os.path.exists(PlotUtils.directory):\n",
    "            os.makedirs(PlotUtils.directory)\n",
    "\n",
    "    @staticmethod\n",
    "    def plot_particle(particle):\n",
    "        plt.scatter(particle.posicao[0], particle.posicao[1])\n",
    "\n",
    "    @staticmethod\n",
    "    def plot_iteration(i):\n",
    "        plt.title(f\"PSO {i}\")\n",
    "        plt.xlim(-1500, 1500)\n",
    "        plt.ylim(-1500, 1500)\n",
    "        plt.xlabel('x[0]')\n",
    "        plt.ylabel('x[1]')\n",
    "        iteration = str(i).zfill(5)\n",
    "        plt.savefig(f\"pso_plots/iteration_{iteration}.png\", facecolor = \"white\", dpi = 75)\n",
    "        plt.close()\n",
    "\n",
    "    @staticmethod\n",
    "    def save():\n",
    "        images = [Image.open(f) for f in sorted(glob.glob(PlotUtils.directory+\"/*\"))]\n",
    "        img = images[0]\n",
    "        img.save(fp=PlotUtils.filename, format='GIF', append_images=images, save_all=True, duration=200, loop=0)\n",
    "        if os.path.exists(PlotUtils.directory):\n",
    "            shutil.rmtree(PlotUtils.directory)"
   ]
  },
  {
   "cell_type": "markdown",
   "id": "1b10c525",
   "metadata": {},
   "source": [
    "### Main"
   ]
  },
  {
   "cell_type": "code",
   "execution_count": null,
   "id": "72ba275c",
   "metadata": {},
   "outputs": [],
   "source": [
    "\n",
    "if __name__ == \"__main__\":\n",
    "    print(\"Starting\")\n",
    "    \n",
    "   \n",
    "    print(\"Starting iterations\")\n",
    "   \n",
    "    \n",
    "   "
   ]
  },
  {
   "cell_type": "code",
   "execution_count": null,
   "id": "40ac5a4e",
   "metadata": {},
   "outputs": [],
   "source": []
  }
 ],
 "metadata": {
  "kernelspec": {
   "display_name": "Python 3 (ipykernel)",
   "language": "python",
   "name": "python3"
  },
  "language_info": {
   "codemirror_mode": {
    "name": "ipython",
    "version": 3
   },
   "file_extension": ".py",
   "mimetype": "text/x-python",
   "name": "python",
   "nbconvert_exporter": "python",
   "pygments_lexer": "ipython3",
   "version": "3.9.1"
  }
 },
 "nbformat": 4,
 "nbformat_minor": 5
}
