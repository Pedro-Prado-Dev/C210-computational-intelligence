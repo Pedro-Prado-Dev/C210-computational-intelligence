{
 "cells": [
  {
   "cell_type": "markdown",
   "id": "25b28dde",
   "metadata": {},
   "source": [
    "# Particle Swarm Optimization (PSO)"
   ]
  },
  {
   "cell_type": "markdown",
   "id": "2a8ade1a",
   "metadata": {},
   "source": [
    "Algoritmo evolucionário e de otimização, qua simula o comportamento de \"movimentação em bando\" de alguns animais, como os pássaros, para resolver problemas computacionais."
   ]
  },
  {
   "cell_type": "markdown",
   "id": "711433f9",
   "metadata": {},
   "source": [
    "## Nearest Neighbor Velocity Matching"
   ]
  },
  {
   "cell_type": "markdown",
   "id": "f14e7cbc",
   "metadata": {},
   "source": [
    "Algoritmo que utiliza dos dados do vizinho mais próximo para atualizar a velocidade de uma dada partícula em observação."
   ]
  },
  {
   "cell_type": "markdown",
   "id": "c5be3c6b",
   "metadata": {},
   "source": [
    "### Função para o cálculo da distância Euclidiana"
   ]
  },
  {
   "cell_type": "code",
   "execution_count": 1,
   "id": "fc0db9aa",
   "metadata": {},
   "outputs": [],
   "source": [
    "import numpy as np\n",
    "class Utils:\n",
    "    \n",
    "    def euclidean_distance(p1, p2):\n",
    "        '''\n",
    "        Calcula a distância euclidiana\n",
    "        '''\n",
    "        posicao_1 = np.array(p1.posicao)\n",
    "        posicao_2 = np.array(p2.posicao)\n",
    "        distance = np.sqrt(sum((posicao_1 - posicao_2)**2))\n",
    "            \n",
    "        return distance"
   ]
  },
  {
   "cell_type": "markdown",
   "id": "3c958836",
   "metadata": {},
   "source": [
    "### Classe de Partículas"
   ]
  },
  {
   "cell_type": "code",
   "execution_count": 2,
   "id": "de3246a0",
   "metadata": {},
   "outputs": [],
   "source": [
    "class Particle:\n",
    "    def __init__(self, num_dimencoes, bounds):\n",
    "        '''\n",
    "        Construtor\n",
    "        '''\n",
    "        self.num_dimencoes = num_dimencoes\n",
    "        self.posicao = []\n",
    "        self.velocidade = []\n",
    "        self.nova_velocidade = self.velocidade\n",
    "        self.closest = None\n",
    "        self.min_dist = np.inf\n",
    "        self.bounds = bounds\n",
    "\n",
    "        # Para cada dimensão definir valores aleatórios entre os limites\n",
    "        for i in range(self.num_dimencoes):\n",
    "            self.posicao.append(np.random.uniform(self.bounds[i][0], self.bounds[i][1]))\n",
    "            self.velocidade.append(np.random.uniform(self.bounds[i][0], self.bounds[i][1]))\n",
    "            \n",
    "            \n",
    "    def find_closest(self, swarm):\n",
    "        '''\n",
    "        Para cada partícula no enxame calcular a partícula mais próxima\n",
    "        '''\n",
    "        for particle in swarm:\n",
    "            if particle == self:\n",
    "                continue\n",
    "            dist = Utils.euclidean_distance(self, particle)\n",
    "            if dist < self.min_dist:\n",
    "                self.min_dist = dist\n",
    "                self.closest = particle\n",
    "\n",
    "    def adjust_velocity(self):\n",
    "        '''\n",
    "        Ajustar a nova velocidade baseado na velocidade do vizinho\n",
    "        '''\n",
    "        self.nova_velocidade = self.closest.velocidade\n",
    "        \n",
    "    def update_velocity(self):\n",
    "        '''\n",
    "        Atualizar a nova velocidade\n",
    "        '''\n",
    "        self.velocidade = self.nova_velocidade\n",
    "        \n",
    "    def apply_craziness(self):\n",
    "        '''\n",
    "        Aplicar a operação 'craziness' no indivíduo\n",
    "        '''\n",
    "        craziness_velocity = []\n",
    "        for i in range(self.num_dimencoes):\n",
    "            craziness_velocity.append(np.random.uniform(self.bounds[i][0], self.bounds[i][1]))\n",
    "        self.velocidade = craziness_velocity\n",
    "        \n",
    "    def update_position(self):\n",
    "        '''\n",
    "        Atualizando a posição\n",
    "        '''\n",
    "        self.posicao = list(np.array(self.posicao) + np.array(self.velocidade))\n",
    "                "
   ]
  },
  {
   "cell_type": "markdown",
   "id": "0351062d",
   "metadata": {},
   "source": [
    "### Classe do Enxame"
   ]
  },
  {
   "cell_type": "code",
   "execution_count": 3,
   "id": "fbbdb6bf",
   "metadata": {},
   "outputs": [],
   "source": [
    "class Swarm:\n",
    "\n",
    "    def __init__(self, particles):\n",
    "        '''\n",
    "        Construtor\n",
    "        '''\n",
    "        self.particles = particles\n",
    "\n",
    "    def swarm_closest(self):\n",
    "        '''\n",
    "        Percorre todas as partículas e chama as funções para encontrar a partícula mais próxima e ajustar a nova velocidade\n",
    "        '''\n",
    "        for p in self.particles:\n",
    "            p.find_closest(self.particles)\n",
    "            p.adjust_velocity()\n",
    "\n",
    "    def swarm_update_velocities(self):\n",
    "        '''\n",
    "        Percorre todas as partículas e chama a função para atualizar a velocidade\n",
    "        '''\n",
    "        for p in self.particles:\n",
    "            p.update_velocity()\n",
    "\n",
    "    def swarm_craziness(self, craziness_threshold):\n",
    "        '''\n",
    "        Percorre todas as partículas e chama a função para aplicar \"craziness\"\n",
    "        '''\n",
    "        for p in self.particles:\n",
    "            if np.random.uniform(0, 1) < craziness_threshold:\n",
    "                p.apply_craziness()\n",
    "\n",
    "    def swarm_update_positions(self):\n",
    "        '''\n",
    "        Percorre todas as partículas e chama a função para atualizar a posição\n",
    "        '''\n",
    "        for p in self.particles:\n",
    "            p.update_position()"
   ]
  },
  {
   "cell_type": "markdown",
   "id": "1521a6f3",
   "metadata": {},
   "source": [
    "### Função para visualizarmos o resultado"
   ]
  },
  {
   "cell_type": "code",
   "execution_count": 4,
   "id": "63ca439b",
   "metadata": {},
   "outputs": [],
   "source": [
    "from matplotlib import pyplot as plt\n",
    "from PIL import Image\n",
    "import glob\n",
    "import os\n",
    "import shutil\n",
    "\n",
    "class PlotUtils:\n",
    "\n",
    "    directory = \"pso_plots\"\n",
    "    filename = 'pso.gif'\n",
    "\n",
    "    @staticmethod\n",
    "    def start_plot():\n",
    "        if os.path.exists(PlotUtils.directory):\n",
    "            shutil.rmtree(PlotUtils.directory)\n",
    "        if not os.path.exists(PlotUtils.directory):\n",
    "            os.makedirs(PlotUtils.directory)\n",
    "\n",
    "    @staticmethod\n",
    "    def plot_particle(particle):\n",
    "        plt.scatter(particle.posicao[0], particle.posicao[1])\n",
    "\n",
    "    @staticmethod\n",
    "    def plot_iteration(i):\n",
    "        plt.title(f\"PSO {i}\")\n",
    "        plt.xlim(-1500, 1500)\n",
    "        plt.ylim(-1500, 1500)\n",
    "        plt.xlabel('x[0]')\n",
    "        plt.ylabel('x[1]')\n",
    "        iteration = str(i).zfill(5)\n",
    "        plt.savefig(f\"pso_plots/iteration_{iteration}.png\", facecolor = \"white\", dpi = 75)\n",
    "        plt.close()\n",
    "\n",
    "    @staticmethod\n",
    "    def save():\n",
    "        images = [Image.open(f) for f in sorted(glob.glob(PlotUtils.directory+\"/*\"))]\n",
    "        img = images[0]\n",
    "        img.save(fp=PlotUtils.filename, format='GIF', append_images=images, save_all=True, duration=200, loop=0)\n",
    "        if os.path.exists(PlotUtils.directory):\n",
    "            shutil.rmtree(PlotUtils.directory)"
   ]
  },
  {
   "cell_type": "markdown",
   "id": "f9e3ddd9",
   "metadata": {},
   "source": [
    "### Main"
   ]
  },
  {
   "cell_type": "code",
   "execution_count": 5,
   "id": "ea338bb5",
   "metadata": {},
   "outputs": [
    {
     "name": "stdout",
     "output_type": "stream",
     "text": [
      "Starting\n",
      "Starting iterations\n",
      "Iteration 0\n",
      "Iteration 1\n",
      "Iteration 2\n",
      "Iteration 3\n",
      "Iteration 4\n",
      "Iteration 5\n",
      "Iteration 6\n",
      "Iteration 7\n",
      "Iteration 8\n",
      "Iteration 9\n",
      "Iteration 10\n",
      "Iteration 11\n",
      "Iteration 12\n",
      "Iteration 13\n",
      "Iteration 14\n",
      "Iteration 15\n",
      "Iteration 16\n",
      "Iteration 17\n",
      "Iteration 18\n",
      "Iteration 19\n",
      "Iteration 20\n",
      "Iteration 21\n",
      "Iteration 22\n",
      "Iteration 23\n",
      "Iteration 24\n"
     ]
    }
   ],
   "source": [
    "CRAZINESS_PROBABILITY = 0.02\n",
    "num_iteracoes = 25\n",
    "num_particles = 100\n",
    "num_dimencoes = 2\n",
    "BOUNDS = [(-50, 50), (-50, 50)]\n",
    "\n",
    "if __name__ == \"__main__\":\n",
    "    PlotUtils.start_plot()\n",
    "    print(\"Starting\")\n",
    "\n",
    "    particles = []\n",
    "    for i in range(num_particles):\n",
    "        particles.append(Particle(num_dimencoes, BOUNDS))\n",
    "\n",
    "    swarm = Swarm(particles)\n",
    "\n",
    "    print(\"Starting iterations\")\n",
    "    i = 0\n",
    "    while i < num_iteracoes:\n",
    "        print(f\"Iteration {i}\")\n",
    "\n",
    "        swarm.swarm_closest()\n",
    "        swarm.swarm_update_velocities()\n",
    "        swarm.swarm_craziness(CRAZINESS_PROBABILITY)\n",
    "        swarm.swarm_update_positions()\n",
    "\n",
    "        for p in swarm.particles:\n",
    "            PlotUtils.plot_particle(p)\n",
    "        PlotUtils.plot_iteration(i)\n",
    "\n",
    "        i += 1\n",
    "\n",
    "    PlotUtils.save()"
   ]
  },
  {
   "cell_type": "code",
   "execution_count": null,
   "id": "1893edd9",
   "metadata": {},
   "outputs": [],
   "source": []
  }
 ],
 "metadata": {
  "kernelspec": {
   "display_name": "Python 3 (ipykernel)",
   "language": "python",
   "name": "python3"
  },
  "language_info": {
   "codemirror_mode": {
    "name": "ipython",
    "version": 3
   },
   "file_extension": ".py",
   "mimetype": "text/x-python",
   "name": "python",
   "nbconvert_exporter": "python",
   "pygments_lexer": "ipython3",
   "version": "3.9.1"
  }
 },
 "nbformat": 4,
 "nbformat_minor": 5
}
