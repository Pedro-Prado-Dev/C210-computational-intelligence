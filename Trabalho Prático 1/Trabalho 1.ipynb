{
 "cells": [
  {
   "cell_type": "markdown",
   "id": "05f0b51c",
   "metadata": {},
   "source": [
    "# Trabalho Prático 1"
   ]
  },
  {
   "cell_type": "markdown",
   "id": "774e12a4",
   "metadata": {},
   "source": [
    "- O tabalho pode ser feito em duplas ou individualmente\n",
    "- A realização da entrega deverá ser feita via Teams (tarefa adicionada à equipe), atente-se ao prazo de entrega. Não será possível realizar a entrega após o prazo previsto.\n",
    "- Apenas esse arquivo (.ipynb) com a resolução deverá ser entregue (entregas em formato .zip serão penalizados)\n",
    "- Caso tenha sido feito em dupla, apenas 1 aluno deve realizar a entrega, com os nomes dos dois participantes"
   ]
  },
  {
   "cell_type": "markdown",
   "id": "3dfd3394",
   "metadata": {},
   "source": [
    "#### Preencha com suas informações\n",
    "#### NOME DO ALUNO / CURSO / PERÍODO / TURMA\n",
    "#### NOME DO ALUNO / CURSO / PERÍODO / TURMA"
   ]
  },
  {
   "cell_type": "markdown",
   "id": "51abaa68",
   "metadata": {},
   "source": [
    "Considere um tabuleiro quadrado onde cada bloco pode estar LIMPO \"o\" ou SUJO \"i\", seu trabalho é mover o aspirador \"x\" pelo tabuleiro a fim de limpar todos os blocos sujos.\n",
    "- Sempre que o aspirador deixa um bloco, esse pode ser considerado como limpo.\n",
    "- O objetivo é deixar todos espaços limpos (tabuleiro preenchido apenas com 'o' e com o aspirador 'x')\n",
    "- Para responder às questões a, b, c, d, e basta completar os códigos \n",
    "\n",
    "<img src=\"tabuleiro.jpg\" style=width:300px;height:200px/>\n",
    "\n",
    "\n"
   ]
  },
  {
   "cell_type": "markdown",
   "id": "5c9de297",
   "metadata": {},
   "source": [
    "## Classe do problema"
   ]
  },
  {
   "cell_type": "markdown",
   "id": "4fae0cf2",
   "metadata": {},
   "source": [
    "#### a) Implemente a função Heurística: h(n) = nº de espaços limpos \"o\" (Maximizar o número de estados limpos)\n",
    "#### (O restante da classe já está pronto e não precisa ser alterado)"
   ]
  },
  {
   "cell_type": "code",
   "execution_count": 6,
   "id": "7fa9f3c4",
   "metadata": {},
   "outputs": [],
   "source": [
    "import numpy as np\n",
    "class Aspirador():\n",
    "    def __init__(self, tamanho):\n",
    "        '''\n",
    "        Construtor\n",
    "        Args:\n",
    "            - tamanho: quantidade de linhas e colunas\n",
    "        '''\n",
    "        self.tamanho = tamanho\n",
    "        \n",
    "    def encontra_posicao(self, estado, elemento):\n",
    "        '''\n",
    "        Varre todo o tabuleiro (estado) e verifica em qual posição 'elemento' está\n",
    "        Args:\n",
    "            - estado: matriz contendo o estado do tabuleiro\n",
    "            - elemento: elemento a ser buscado na matriz\n",
    "        Return:\n",
    "            - Retorna a linha e coluna onde o elemento se encontra\n",
    "        '''\n",
    "        for i in range(self.tamanho):\n",
    "            for j in range(self.tamanho):\n",
    "                if estado[i, j] == elemento:\n",
    "                    return i, j\n",
    "        return None, None\n",
    "    \n",
    "    def verifica_objetivo(self, estado):\n",
    "        '''\n",
    "        Verifica se o estado atual é o objetivo\n",
    "        Objetivo: Não haver sujeira (\"i\") -> Todos blocos, exceto onde o aspirador está\n",
    "        devem ser \"o\"\n",
    "        Args:\n",
    "            - estado: estado atual do tabuleiro\n",
    "        Return:\n",
    "            - booleano dizendo se o estado atual é ou não o objetivo\n",
    "        '''\n",
    "        item, cont = np.unique(estado, return_counts = True)\n",
    "        mapa = dict()\n",
    "        for i in range(len(item)):\n",
    "            mapa[item[i]] = cont[i]\n",
    "            \n",
    "        # Todos elementos exceto onde o aspirador está\n",
    "        if mapa['o'] == (self.tamanho**2 - 1):\n",
    "            return True\n",
    "        \n",
    "        return False\n",
    "    \n",
    "    def expande_estados(self, atual):\n",
    "        '''\n",
    "        Dado o estado atual, realiza a expansão de estados\n",
    "        Args:\n",
    "            - atual: matriz que descreve o estado atual\n",
    "        Return:\n",
    "            - lista com os novos estados após a expansão\n",
    "        '''\n",
    "        \n",
    "        novos_estados = []\n",
    "        linha, coluna = self.encontra_posicao(atual, 'x')\n",
    "\n",
    "        # Cima\n",
    "        if linha > 0:\n",
    "            novo_estado = np.copy(atual)\n",
    "            nova_linha = linha - 1\n",
    "\n",
    "            novo_estado[nova_linha, coluna] = 'x'\n",
    "            novo_estado[linha, coluna] = 'o'\n",
    "\n",
    "            novos_estados.append(novo_estado)\n",
    "\n",
    "        # Baixo\n",
    "        if linha < self.tamanho - 1:\n",
    "            novo_estado = np.copy(atual)\n",
    "            nova_linha = linha + 1\n",
    "\n",
    "            novo_estado[nova_linha, coluna] = 'x'\n",
    "            novo_estado[linha, coluna] = 'o'\n",
    "\n",
    "            novos_estados.append(novo_estado)\n",
    "\n",
    "\n",
    "        # Esquerda\n",
    "        if coluna > 0:\n",
    "            novo_estado = np.copy(atual)\n",
    "            nova_coluna = coluna - 1\n",
    "\n",
    "            novo_estado[linha, nova_coluna] = 'x'\n",
    "            novo_estado[linha, coluna] = 'o'\n",
    "\n",
    "            novos_estados.append(novo_estado)\n",
    "\n",
    "        # Direita\n",
    "        if coluna < self.tamanho - 1:\n",
    "            novo_estado = np.copy(atual)\n",
    "            nova_coluna = coluna + 1\n",
    "\n",
    "            novo_estado[linha, nova_coluna] = 'x'\n",
    "            novo_estado[linha, coluna] = 'o'\n",
    "\n",
    "            novos_estados.append(novo_estado)\n",
    "\n",
    "        return novos_estados\n",
    "        \n",
    "    def heuristica(self, estado):\n",
    "    # IMPLEMENTAR"
   ]
  },
  {
   "cell_type": "markdown",
   "id": "0b890287",
   "metadata": {},
   "source": [
    "#### b) Implemente a busca gulosa utilizando a heurística criada no item a.\n",
    "#### Dica: Lembrar que a função heapq ordena do menor para o maior, mas agora queremos maximizar a heurística, logo devemos usar um comando da própria heapq para ordená-la de forma decrescente "
   ]
  },
  {
   "cell_type": "code",
   "execution_count": null,
   "id": "35ab2f81",
   "metadata": {},
   "outputs": [],
   "source": [
    "import heapq\n",
    "\n",
    "class BuscaGulosa():\n",
    "    def __init__(self, problema):\n",
    "        '''\n",
    "        Construtor\n",
    "        Args:\n",
    "            - problema: objeto do problema a ser solucionado\n",
    "        '''\n",
    "        self.problema = problema\n",
    "        \n",
    "    def compara_estados(self, estado, estado_visitado):\n",
    "        '''\n",
    "        Comparar dois estados, caso haja alguma diferença, é retornado Falso, caso sejam idênticos é retornado True\n",
    "        Args:\n",
    "            - estado: estado atual\n",
    "            - estado_visitado: estado para fazer a comparação com o estado atual\n",
    "            \n",
    "        Return:\n",
    "            - Retorna se os estados são iguais ou não\n",
    "        '''\n",
    "        for i in range(self.problema.tamanho):\n",
    "            for j in range(self.problema.tamanho):\n",
    "                if estado[i, j] != estado_visitado[i, j]:\n",
    "                    return False\n",
    "        return True\n",
    "    \n",
    "    def verifica_visitados(self, estado, estados_visitados):\n",
    "        '''\n",
    "        Verificar se um estado está na lista de visitados\n",
    "        Args:\n",
    "            - estado: estado atual\n",
    "            - estados_visitados: lista com todos os estados visitados\n",
    "        '''\n",
    "        for estado_i in estados_visitados:\n",
    "            if self.compara_estados(estado, estado_i):\n",
    "                return True\n",
    "            \n",
    "        return False\n",
    "    \n",
    "    def busca(self, inicio):\n",
    "       #IMPLEMENTAR"
   ]
  },
  {
   "cell_type": "markdown",
   "id": "38361505",
   "metadata": {},
   "source": [
    "#### c) Implementar a função de busca em profundidade"
   ]
  },
  {
   "cell_type": "code",
   "execution_count": null,
   "id": "a5f3ca0c",
   "metadata": {},
   "outputs": [],
   "source": [
    "from queue import LifoQueue\n",
    "\n",
    "class DepthFirstSearch():\n",
    "    def __init__(self, problema):\n",
    "        '''\n",
    "        Construtor\n",
    "        Args:\n",
    "            - problema: objeto do problema a ser solucionado\n",
    "        '''\n",
    "        self.problema = problema\n",
    "        \n",
    "    def compara_estados(self, estado, estado_visitado):\n",
    "        '''\n",
    "        Comparar dois estados, caso haja alguma diferença, é retornado Falso, caso sejam idênticos é retornado True\n",
    "        Args:\n",
    "            - estado: estado atual\n",
    "            - estado_visitado: estado para fazer a comparação com o estado atual\n",
    "            \n",
    "        Return:\n",
    "            - Retorna se os estados são iguais ou não\n",
    "        '''\n",
    "        for i in range(self.problema.tamanho):\n",
    "            for j in range(self.problema.tamanho):\n",
    "                if estado[i, j] != estado_visitado[i, j]:\n",
    "                    return False\n",
    "        return True\n",
    "    \n",
    "    def verifica_visitados(self, estado, estados_visitados):\n",
    "        '''\n",
    "        Verificar se um estado está na lista de visitados\n",
    "        Args:\n",
    "            - estado: estado atual\n",
    "            - estados_visitados: lista com todos os estados visitados\n",
    "        '''\n",
    "        for estado_i in estados_visitados:\n",
    "            if self.compara_estados(estado, estado_i):\n",
    "                return True\n",
    "            \n",
    "        return False\n",
    "    \n",
    "    def busca(self, inicio):\n",
    "    #IMPLEMENTAR"
   ]
  },
  {
   "cell_type": "markdown",
   "id": "187b8cdc",
   "metadata": {},
   "source": [
    "#### d) Implementar a função de busca em largura"
   ]
  },
  {
   "cell_type": "code",
   "execution_count": null,
   "id": "588ac80f",
   "metadata": {},
   "outputs": [],
   "source": [
    "from queue import Queue\n",
    "\n",
    "class BreadthFirstSearch():\n",
    "    def __init__(self, problema):\n",
    "        '''\n",
    "        Construtor\n",
    "        Args:\n",
    "            - problema: objeto do problema a ser solucionado\n",
    "        '''\n",
    "        self.problema = problema\n",
    "        \n",
    "    def compara_estados(self, estado, estado_visitado):\n",
    "        '''\n",
    "        Comparar dois estados, caso haja alguma diferença, é retornado Falso, caso sejam idênticos é retornado True\n",
    "        Args:\n",
    "            - estado: estado atual\n",
    "            - estado_visitado: estado para fazer a comparação com o estado atual\n",
    "            \n",
    "        Return:\n",
    "            - Retorna se os estados são iguais ou não\n",
    "        '''\n",
    "        for i in range(self.problema.tamanho):\n",
    "            for j in range(self.problema.tamanho):\n",
    "                if estado[i, j] != estado_visitado[i, j]:\n",
    "                    return False\n",
    "        return True\n",
    "    \n",
    "    def verifica_visitados(self, estado, estados_visitados):\n",
    "        '''\n",
    "        Verificar se um estado está na lista de visitados\n",
    "        Args:\n",
    "            - estado: estado atual\n",
    "            - estados_visitados: lista com todos os estados visitados\n",
    "        '''\n",
    "        for estado_i in estados_visitados:\n",
    "            if self.compara_estados(estado, estado_i):\n",
    "                return True\n",
    "            \n",
    "        return False\n",
    "    \n",
    "    \n",
    "    def busca(self, inicio):\n",
    "        '''\n",
    "        Realiza a busca BFS, armazenando os estados em uma FILA\n",
    "        Args:\n",
    "            - inicio: estado inicial do problema\n",
    "            - fim: estado objetivo\n",
    "        Return:\n",
    "            - booleano se a solução foi encontrada, lista dos estados visitados, quantidade de estados visitados\n",
    "        '''\n",
    "        #IMPLEMENTAR"
   ]
  },
  {
   "cell_type": "markdown",
   "id": "792215bc",
   "metadata": {},
   "source": [
    "#### e) Execute as 3 buscas com o tabuleiro inicial fornecido e compare: a quantidade de estados buscados (inclusive o estado objetivo) e se a solução foi encontrada ou não."
   ]
  },
  {
   "cell_type": "code",
   "execution_count": 7,
   "id": "c8bbd1dd",
   "metadata": {},
   "outputs": [
    {
     "data": {
      "text/plain": [
       "array([['i', 'o', 'o'],\n",
       "       ['i', 'x', 'o'],\n",
       "       ['o', 'i', 'i']], dtype='<U1')"
      ]
     },
     "execution_count": 7,
     "metadata": {},
     "output_type": "execute_result"
    }
   ],
   "source": [
    "# Criando objeto do problema\n",
    "problema = Aspirador(3)\n",
    "\n",
    "# Criando Matriz inicial\n",
    "start = np.array([['i','o','o'],['i','x','o'],['o','i','i']])\n",
    "start"
   ]
  },
  {
   "cell_type": "code",
   "execution_count": 10,
   "id": "f37ba826",
   "metadata": {},
   "outputs": [],
   "source": [
    "#Execução da busca gulosa\n",
    "\n"
   ]
  },
  {
   "cell_type": "code",
   "execution_count": 11,
   "id": "a56fea67",
   "metadata": {},
   "outputs": [],
   "source": [
    "#Execução da BFS\n",
    "\n"
   ]
  },
  {
   "cell_type": "code",
   "execution_count": 12,
   "id": "ba30497a",
   "metadata": {},
   "outputs": [],
   "source": [
    "#Execução da DFS\n",
    "\n"
   ]
  }
 ],
 "metadata": {
  "kernelspec": {
   "display_name": "Python 3 (ipykernel)",
   "language": "python",
   "name": "python3"
  },
  "language_info": {
   "codemirror_mode": {
    "name": "ipython",
    "version": 3
   },
   "file_extension": ".py",
   "mimetype": "text/x-python",
   "name": "python",
   "nbconvert_exporter": "python",
   "pygments_lexer": "ipython3",
   "version": "3.9.1"
  }
 },
 "nbformat": 4,
 "nbformat_minor": 5
}
