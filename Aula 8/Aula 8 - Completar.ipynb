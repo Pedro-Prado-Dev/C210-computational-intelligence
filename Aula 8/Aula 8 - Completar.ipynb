{
 "cells": [
  {
   "cell_type": "markdown",
   "id": "61ba7b67",
   "metadata": {},
   "source": [
    "# PSO - Cornfield Vector "
   ]
  },
  {
   "cell_type": "markdown",
   "id": "e855ed78",
   "metadata": {},
   "source": [
    "    - Simular geograficamente o comportamento das espécies\n",
    "    - Lembrança da melhor posição individual\n",
    "    - Lembrança da melhor posição global"
   ]
  },
  {
   "cell_type": "markdown",
   "id": "ffeb64e2",
   "metadata": {},
   "source": [
    "## Classe da função a ser minimizada"
   ]
  },
  {
   "cell_type": "markdown",
   "id": "84d16206",
   "metadata": {},
   "source": [
    "### Minimizar X^2 + Y^2"
   ]
  },
  {
   "cell_type": "code",
   "execution_count": null,
   "id": "605460ee",
   "metadata": {},
   "outputs": [],
   "source": [
    "class Utils:\n",
    "    \n",
    "    def function(position):\n",
    "        '''\n",
    "        Calcula a distância euclidiana\n",
    "        '''\n",
    "\n",
    "        \n",
    "        return result\n",
    "       "
   ]
  },
  {
   "cell_type": "markdown",
   "id": "f2833792",
   "metadata": {},
   "source": [
    "## Classe das Partículas"
   ]
  },
  {
   "cell_type": "code",
   "execution_count": null,
   "id": "4ff3c6e6",
   "metadata": {},
   "outputs": [],
   "source": [
    "import random\n",
    "import numpy as np\n",
    "\n",
    "class Particle:\n",
    "    '''\n",
    "    Construtor\n",
    "    '''\n",
    "    def __init__(self, num_dimensions, bounds):\n",
    "       \n",
    "\n",
    "    def evaluate(self, cost_function):\n",
    "        '''\n",
    "        Função que avalia e compara a proximidade de cada uma das partículas em relação ao objetivo\n",
    "        '''\n",
    "\n",
    "        \n",
    "\n",
    "    def update_velocity(self, gbest_pos):\n",
    "        '''\n",
    "        Atualiza a velocidade com base em um \"fator de craziness\", o pbest e o gbest\n",
    "        '''\n",
    "        \n",
    "       \n",
    "\n",
    "    def update_position(self, bounds):\n",
    "        '''\n",
    "        Atualiza a posição de cada uma das partículas\n",
    "        '''\n",
    "        \n",
    "        \n",
    "            "
   ]
  },
  {
   "cell_type": "markdown",
   "id": "bab8305e",
   "metadata": {},
   "source": [
    "## Classe PSO"
   ]
  },
  {
   "cell_type": "code",
   "execution_count": null,
   "id": "01e7c1ff",
   "metadata": {},
   "outputs": [],
   "source": [
    "class PSO:\n",
    "\n",
    "    def __init__(self, num_dimensions, cost_function, bounds, num_particles, max_iterations):\n",
    "        '''\n",
    "        Construtor\n",
    "        '''\n",
    "        \n",
    "            print(f\"i = {i}\\tgbest_pos = {gbest_pos}\\tgbest_err = {gbest_err}\")\n",
    "                \n",
    "            \n",
    "        print(f\"i = {i}\\tgbest_pos = {gbest_pos}\\tgbest_err = {gbest_err}\")"
   ]
  },
  {
   "cell_type": "markdown",
   "id": "44abee57",
   "metadata": {},
   "source": [
    "## Classe de Plot"
   ]
  },
  {
   "cell_type": "code",
   "execution_count": null,
   "id": "10ee12f8",
   "metadata": {},
   "outputs": [],
   "source": [
    "from matplotlib import pyplot as plt\n",
    "from PIL import Image\n",
    "import glob\n",
    "import os\n",
    "import shutil\n",
    "\n",
    "class PlotUtils:\n",
    "\n",
    "    directory = \"pso_plots\"\n",
    "    filename = 'pso_cornfield.gif'\n",
    "\n",
    "    @staticmethod\n",
    "    def start_plot():\n",
    "        if os.path.exists(PlotUtils.directory):\n",
    "            shutil.rmtree(PlotUtils.directory)\n",
    "        if not os.path.exists(PlotUtils.directory):\n",
    "            os.makedirs(PlotUtils.directory)\n",
    "\n",
    "    @staticmethod\n",
    "    def plot_particle(particle):\n",
    "        plt.scatter(particle.position[0], particle.position[1])\n",
    "\n",
    "    @staticmethod\n",
    "    def plot_iteration(i):\n",
    "        plt.title(f\"PSO {i}\")\n",
    "        plt.xlim(-20, 20)\n",
    "        plt.ylim(-20, 20)\n",
    "        plt.xlabel('x[0]')\n",
    "        plt.ylabel('x[1]')\n",
    "        iteration = str(i).zfill(5)\n",
    "        plt.savefig(f\"pso_plots/iteration_{iteration}.png\", facecolor = \"white\", dpi = 75)\n",
    "        plt.close()\n",
    "\n",
    "    @staticmethod\n",
    "    def save():\n",
    "        images = [Image.open(f) for f in sorted(glob.glob(PlotUtils.directory+\"/*\"))]\n",
    "        img = images[0]\n",
    "        img.save(fp=PlotUtils.filename, format='GIF', append_images=images, save_all=True, duration=200, loop=0)\n",
    "        if os.path.exists(PlotUtils.directory):\n",
    "            shutil.rmtree(PlotUtils.directory)"
   ]
  },
  {
   "cell_type": "markdown",
   "id": "44ae815a",
   "metadata": {},
   "source": [
    "## Main"
   ]
  },
  {
   "cell_type": "code",
   "execution_count": null,
   "id": "915ffedc",
   "metadata": {},
   "outputs": [],
   "source": [
    "if __name__ == \"__main__\":\n",
    "    \n",
    "    "
   ]
  }
 ],
 "metadata": {
  "kernelspec": {
   "display_name": "Python 3 (ipykernel)",
   "language": "python",
   "name": "python3"
  },
  "language_info": {
   "codemirror_mode": {
    "name": "ipython",
    "version": 3
   },
   "file_extension": ".py",
   "mimetype": "text/x-python",
   "name": "python",
   "nbconvert_exporter": "python",
   "pygments_lexer": "ipython3",
   "version": "3.9.1"
  }
 },
 "nbformat": 4,
 "nbformat_minor": 5
}
