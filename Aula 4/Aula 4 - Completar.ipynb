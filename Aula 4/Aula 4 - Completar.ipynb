{
 "cells": [
  {
   "cell_type": "markdown",
   "id": "364ca6c2",
   "metadata": {},
   "source": [
    "# Machine Learning - Agrupamento/Cluterização"
   ]
  },
  {
   "cell_type": "markdown",
   "id": "773521a7",
   "metadata": {},
   "source": [
    "O agrupamento ou clusterização é um tipo de aprendizado de máquina não supervisionado, que como o próprio nome sugere é responsável por separar os dados de uma análise em diferentes grupos da melhor maneira possível."
   ]
  },
  {
   "cell_type": "markdown",
   "id": "fa8aa8e5",
   "metadata": {},
   "source": [
    "## Método K-Means"
   ]
  },
  {
   "cell_type": "markdown",
   "id": "d9a6aab0",
   "metadata": {},
   "source": [
    "Funcionamento:\n",
    "\n",
    "    1 - Primeiro, preciso definir um ‘K’, ou seja, um número de clusters (ou agrupamentos).\n",
    "    2 - Depois, preciso definir, aleatoriamente, um centroide para cada cluster.\n",
    "    3 - O próximo passo é calcular, para cada ponto, o centroide de menor distância. Cada ponto pertencerá ao centroide mais próximo (lembrar do exemplo do CD logístico e das lojas: cada loja (ponto) deve ser atendida pelo CD (centróide) mais próximo)\n",
    "    4 - Agora, devo reposicionar o centróide. A nova posição do centroide deve ser a média da posição de todos os pontos do cluster.\n",
    "    5 - Os dois ultimos passos são repetidos, iterativamente, até obtermos a posição ideal dos centróides."
   ]
  },
  {
   "cell_type": "markdown",
   "id": "bb99cd81",
   "metadata": {},
   "source": [
    "<img src=\"kmeans.jpg\" style=width:500px;height:400px/>"
   ]
  },
  {
   "cell_type": "markdown",
   "id": "7c581722",
   "metadata": {},
   "source": [
    "## Exemplo 1"
   ]
  },
  {
   "cell_type": "markdown",
   "id": "052d00a9",
   "metadata": {},
   "source": [
    "### Importando bibliotecas"
   ]
  },
  {
   "cell_type": "code",
   "execution_count": null,
   "id": "a2ff3500",
   "metadata": {},
   "outputs": [],
   "source": [
    "import matplotlib.pyplot as plt\n",
    "import pandas as pd\n",
    "import numpy as np\n",
    "\n",
    "from sklearn.datasets import make_blobs\n",
    "from sklearn.cluster import KMeans\n",
    "from sklearn.metrics import calinski_harabasz_score, silhouette_score"
   ]
  },
  {
   "cell_type": "markdown",
   "id": "a4c3c12f",
   "metadata": {},
   "source": [
    "### Criação dos dados"
   ]
  },
  {
   "cell_type": "code",
   "execution_count": null,
   "id": "a8f0b343",
   "metadata": {},
   "outputs": [],
   "source": [
    "# Criando dados usando a função make blobs (Parametros são: n° de amostras, n° de características, n° de centros,\n",
    "# espalhamento dos dados, e embaralhamento dos dados)\n",
    "\n",
    "print(data)"
   ]
  },
  {
   "cell_type": "markdown",
   "id": "2ef8eeae",
   "metadata": {},
   "source": [
    "### Análise exploratória"
   ]
  },
  {
   "cell_type": "code",
   "execution_count": null,
   "id": "7a641571",
   "metadata": {},
   "outputs": [],
   "source": [
    "plt.rcParams['figure.dpi'] = 150\n",
    "plt.scatter(data[:, 0], data[:, 1], marker=\"o\", edgecolors=\"black\")\n",
    "plt.show()"
   ]
  },
  {
   "cell_type": "markdown",
   "id": "d6bb2fbb",
   "metadata": {},
   "source": [
    "### Criação do KMeans"
   ]
  },
  {
   "cell_type": "code",
   "execution_count": null,
   "id": "990a8dc0",
   "metadata": {},
   "outputs": [],
   "source": [
    "# Instanciando um modelo KMeans e passando os dados gerados para treinamento\n"
   ]
  },
  {
   "cell_type": "markdown",
   "id": "e18f5148",
   "metadata": {},
   "source": [
    "### Predição"
   ]
  },
  {
   "cell_type": "code",
   "execution_count": null,
   "id": "09cad819",
   "metadata": {},
   "outputs": [],
   "source": [
    "# Prevendo os valores dos dados\n",
    "\n",
    "\n",
    "# Separando os grupos de acordo com o que o modelo previu\n"
   ]
  },
  {
   "cell_type": "markdown",
   "id": "57f7d7cf",
   "metadata": {},
   "source": [
    "### Plotando o gráfico"
   ]
  },
  {
   "cell_type": "code",
   "execution_count": null,
   "id": "1be36896",
   "metadata": {},
   "outputs": [],
   "source": [
    "plt.scatter(grupo_1[:, 0], grupo_1[:, 1], c=\"green\", marker=\"s\", label=\"Grupo 1\", edgecolors=\"black\")\n",
    "plt.scatter(grupo_2[:, 0], grupo_2[:, 1], c=\"blue\", marker=\"o\", label=\"Grupo 2\", edgecolors=\"black\")\n",
    "plt.scatter(grupo_3[:, 0], grupo_3[:, 1], c=\"red\", marker=\"v\", label=\"Grupo 3\", edgecolors=\"black\")\n",
    "plt.scatter(centros[:, 0], centros[:, 1], c=\"orange\", label=\"Centros\", marker=\"*\")\n",
    "\n",
    "plt.legend(scatterpoints=1)\n",
    "\n",
    "plt.show()"
   ]
  },
  {
   "cell_type": "markdown",
   "id": "26cb26be",
   "metadata": {},
   "source": [
    "### Avaliações"
   ]
  },
  {
   "cell_type": "markdown",
   "id": "652dc0cd",
   "metadata": {},
   "source": [
    "### Índice Calinski Harabasz"
   ]
  },
  {
   "cell_type": "markdown",
   "id": "f6965d52",
   "metadata": {},
   "source": [
    "O índice CH (também conhecido como critério de razão de variância ) é uma medida de quão semelhante um objeto é ao seu próprio cluster (coesão) em comparação com outros clusters (separação). Aqui, a coesão é estimada com base nas distâncias dos pontos de dados em um cluster ao seu centróide do cluster e a separação é baseada na distância dos centróides do cluster do centróide global. (Quanro maior o valor, melhor foi a divisão)."
   ]
  },
  {
   "cell_type": "markdown",
   "id": "0c2543b0",
   "metadata": {},
   "source": [
    "### Silhouette Score"
   ]
  },
  {
   "cell_type": "markdown",
   "id": "b5486837",
   "metadata": {},
   "source": [
    "Varia entre -1 e 1 de nos mostra o quão bem os elementos estão agrupados levando em conta algumas definições matemáticas. (Quanto mais próximo de 1, melhor foi a divisão)."
   ]
  },
  {
   "cell_type": "code",
   "execution_count": null,
   "id": "cd8046e0",
   "metadata": {},
   "outputs": [],
   "source": [
    "# Avaliando o modelo dentro dos dois métodos de avaliação, passando os dados e os labels obtidos no treinamento como parametro\n",
    "print(\"CH: \", calinski_harabasz_score(data, modelo.labels_))\n",
    "print(\"SC: \", silhouette_score(data, modelo.labels_))"
   ]
  },
  {
   "cell_type": "markdown",
   "id": "9d30562f",
   "metadata": {},
   "source": [
    "## Exemplo 2"
   ]
  },
  {
   "cell_type": "markdown",
   "id": "6c19f317",
   "metadata": {},
   "source": [
    "### Importando os dados"
   ]
  },
  {
   "cell_type": "code",
   "execution_count": null,
   "id": "bf225962",
   "metadata": {},
   "outputs": [],
   "source": [
    "# Importando o csv\n"
   ]
  },
  {
   "cell_type": "markdown",
   "id": "c71a5257",
   "metadata": {},
   "source": [
    "### Análise exploratória"
   ]
  },
  {
   "cell_type": "markdown",
   "id": "1bc70cab",
   "metadata": {},
   "source": [
    "### Verificando a presença de elementos nulos e excluindo-os"
   ]
  },
  {
   "cell_type": "code",
   "execution_count": null,
   "id": "3e59325c",
   "metadata": {},
   "outputs": [],
   "source": [
    "#Mostrando o total de dados\n",
    "#Verificando a presença de dados nulos\n",
    "#Excluindo os dados nulos\n",
    "#Mostrando o total de dados novamente"
   ]
  },
  {
   "cell_type": "code",
   "execution_count": null,
   "id": "122411d4",
   "metadata": {},
   "outputs": [],
   "source": [
    "plt.rcParams['figure.dpi'] = 150\n",
    "plt.scatter(data2[\"f1\"], data2[\"f2\"], marker=\"o\", edgecolor=\"black\")\n",
    "plt.show()"
   ]
  },
  {
   "cell_type": "markdown",
   "id": "fba8634d",
   "metadata": {},
   "source": [
    "### Elbow Method"
   ]
  },
  {
   "cell_type": "markdown",
   "id": "0277e023",
   "metadata": {},
   "source": [
    "Método onde treinamos nosso modelo com diferentes números de clusters possíveis e posteriormente analisamos qual o número ideal. Número esse que é definido pelo ponto onde a reta do gráfico começa a se tornar constante."
   ]
  },
  {
   "cell_type": "code",
   "execution_count": null,
   "id": "af908ff2",
   "metadata": {},
   "outputs": [],
   "source": [
    "# Todos dados são para treino\n",
    "# Transformando em array do numpy\n",
    "print(x)"
   ]
  },
  {
   "cell_type": "code",
   "execution_count": null,
   "id": "668aac81",
   "metadata": {},
   "outputs": [],
   "source": [
    "# Testando a diferentes números possíveis de clusters entre 1 e 20, avaliando-os, e salvando as avaliações em uma lista\n"
   ]
  },
  {
   "cell_type": "code",
   "execution_count": null,
   "id": "83e0ba4c",
   "metadata": {},
   "outputs": [],
   "source": [
    "# Plotando o gráfico\n",
    "plt.plot(range(1,21), distortions, marker='o')\n",
    "plt.xlabel(\"Qtd de clusters\")\n",
    "plt.ylabel(\"Métrica de avaliação\")\n",
    "plt.xticks(range(1,21))\n",
    "plt.show()"
   ]
  },
  {
   "cell_type": "markdown",
   "id": "b2fe6242",
   "metadata": {},
   "source": [
    "### Criando o KMeans"
   ]
  },
  {
   "cell_type": "code",
   "execution_count": null,
   "id": "42848937",
   "metadata": {},
   "outputs": [],
   "source": [
    "# Instanciando o modelo\n"
   ]
  },
  {
   "cell_type": "markdown",
   "id": "6c491e63",
   "metadata": {},
   "source": [
    "### Predição"
   ]
  },
  {
   "cell_type": "code",
   "execution_count": null,
   "id": "f1deca3d",
   "metadata": {},
   "outputs": [],
   "source": [
    "# Prevendo os valores\n"
   ]
  },
  {
   "cell_type": "markdown",
   "id": "528a8e0f",
   "metadata": {},
   "source": [
    "### Mostrando Gráfico"
   ]
  },
  {
   "cell_type": "code",
   "execution_count": null,
   "id": "831b2afd",
   "metadata": {},
   "outputs": [],
   "source": [
    "\n",
    "\n",
    "for i in range():\n",
    "    plt.scatter(grupo_i[:,0] ,grupo_i[:,1], c=np.random.rand(3), edgecolors=(\"black\") )\n",
    "    \n",
    "plt.scatter(centros2[:, 0], centros2[:, 1], c=\"orange\", label=\"Centros\", marker=\"*\")\n",
    "plt.show()"
   ]
  },
  {
   "cell_type": "code",
   "execution_count": null,
   "id": "fd65dc8f",
   "metadata": {},
   "outputs": [],
   "source": [
    "# Avaliando o modelo dentro dos dois métodos de avaliação, passando os dados e os labels obtidos no treinamento como parametro\n",
    "print(\"CH: \", calinski_harabasz_score(data2, modelo2.labels_))\n",
    "print(\"SC: \", silhouette_score(data2, modelo2.labels_))"
   ]
  }
 ],
 "metadata": {
  "kernelspec": {
   "display_name": "Python 3 (ipykernel)",
   "language": "python",
   "name": "python3"
  },
  "language_info": {
   "codemirror_mode": {
    "name": "ipython",
    "version": 3
   },
   "file_extension": ".py",
   "mimetype": "text/x-python",
   "name": "python",
   "nbconvert_exporter": "python",
   "pygments_lexer": "ipython3",
   "version": "3.9.1"
  }
 },
 "nbformat": 4,
 "nbformat_minor": 5
}
